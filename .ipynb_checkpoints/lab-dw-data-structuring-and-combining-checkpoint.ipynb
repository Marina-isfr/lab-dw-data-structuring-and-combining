{
 "cells": [
  {
   "cell_type": "markdown",
   "id": "25d7736c-ba17-4aff-b6bb-66eba20fbf4e",
   "metadata": {
    "id": "25d7736c-ba17-4aff-b6bb-66eba20fbf4e"
   },
   "source": [
    "# Lab | Data Structuring and Combining Data"
   ]
  },
  {
   "cell_type": "markdown",
   "id": "a2cdfc70-44c8-478c-81e7-2bc43fdf4986",
   "metadata": {
    "id": "a2cdfc70-44c8-478c-81e7-2bc43fdf4986"
   },
   "source": [
    "## Challenge 1: Combining & Cleaning Data\n",
    "\n",
    "In this challenge, we will be working with the customer data from an insurance company, as we did in the two previous labs. The data can be found here:\n",
    "- https://raw.githubusercontent.com/data-bootcamp-v4/data/main/file1.csv\n",
    "\n",
    "But this time, we got new data, which can be found in the following 2 CSV files located at the links below.\n",
    "\n",
    "- https://raw.githubusercontent.com/data-bootcamp-v4/data/main/file2.csv\n",
    "- https://raw.githubusercontent.com/data-bootcamp-v4/data/main/file3.csv\n",
    "\n",
    "Note that you'll need to clean and format the new data.\n",
    "\n",
    "Observation:\n",
    "- One option is to first combine the three datasets and then apply the cleaning function to the new combined dataset\n",
    "- Another option would be to read the clean file you saved in the previous lab, and just clean the two new files and concatenate the three clean datasets"
   ]
  },
  {
   "cell_type": "code",
   "execution_count": 137,
   "id": "492d06e3-92c7-4105-ac72-536db98d3244",
   "metadata": {
    "id": "492d06e3-92c7-4105-ac72-536db98d3244"
   },
   "outputs": [
    {
     "name": "stdout",
     "output_type": "stream",
     "text": [
      "(10910, 26)\n",
      "(996, 11)\n",
      "(7070, 11)\n",
      "['unnamed', 'customer', 'state', 'customer_lifetime_value', 'response', 'coverage', 'education', 'effective_to_date', 'employment_status', 'gender', 'income', 'location_code', 'marital_status', 'monthly_premium_auto', 'months_since_last_claim', 'months_since_policy_inception', 'number_of_open_complaints', 'number_of_policies', 'policy_type', 'policy', 'renew_offer_type', 'sales_channel', 'total_claim_amount', 'vehicle_class', 'vehicle_size', 'vehicle_type']\n",
      "['customer', 'st', 'gender', 'education', 'customer_lifetime_value', 'income', 'monthly_premium_auto', 'number_of_open_complaints', 'total_claim_amount', 'policy_type', 'vehicle_class']\n",
      "['customer', 'state', 'customer_lifetime_value', 'education', 'gender', 'income', 'monthly_premium_auto', 'number_of_open_complaints', 'policy_type', 'total_claim_amount', 'vehicle_class']\n",
      "['unnamed', 'customer', 'state', 'customer_lifetime_value', 'response', 'coverage', 'education', 'effective_to_date', 'employment_status', 'gender', 'income', 'location_code', 'marital_status', 'monthly_premium_auto', 'months_since_last_claim', 'months_since_policy_inception', 'number_of_open_complaints', 'number_of_policies', 'policy_type', 'policy', 'renew_offer_type', 'sales_channel', 'total_claim_amount', 'vehicle_class', 'vehicle_size', 'vehicle_type', 'st']\n",
      "(18976, 27)\n"
     ]
    },
    {
     "data": {
      "text/html": [
       "<div>\n",
       "<style scoped>\n",
       "    .dataframe tbody tr th:only-of-type {\n",
       "        vertical-align: middle;\n",
       "    }\n",
       "\n",
       "    .dataframe tbody tr th {\n",
       "        vertical-align: top;\n",
       "    }\n",
       "\n",
       "    .dataframe thead th {\n",
       "        text-align: right;\n",
       "    }\n",
       "</style>\n",
       "<table border=\"1\" class=\"dataframe\">\n",
       "  <thead>\n",
       "    <tr style=\"text-align: right;\">\n",
       "      <th></th>\n",
       "      <th>unnamed</th>\n",
       "      <th>customer</th>\n",
       "      <th>state</th>\n",
       "      <th>customer_lifetime_value</th>\n",
       "      <th>response</th>\n",
       "      <th>coverage</th>\n",
       "      <th>education</th>\n",
       "      <th>effective_to_date</th>\n",
       "      <th>employment_status</th>\n",
       "      <th>gender</th>\n",
       "      <th>...</th>\n",
       "      <th>number_of_policies</th>\n",
       "      <th>policy_type</th>\n",
       "      <th>policy</th>\n",
       "      <th>renew_offer_type</th>\n",
       "      <th>sales_channel</th>\n",
       "      <th>total_claim_amount</th>\n",
       "      <th>vehicle_class</th>\n",
       "      <th>vehicle_size</th>\n",
       "      <th>vehicle_type</th>\n",
       "      <th>st</th>\n",
       "    </tr>\n",
       "  </thead>\n",
       "  <tbody>\n",
       "    <tr>\n",
       "      <th>0</th>\n",
       "      <td>0.0</td>\n",
       "      <td>DK49336</td>\n",
       "      <td>Arizona</td>\n",
       "      <td>4809.21696</td>\n",
       "      <td>No</td>\n",
       "      <td>Basic</td>\n",
       "      <td>College</td>\n",
       "      <td>2/18/11</td>\n",
       "      <td>Employed</td>\n",
       "      <td>M</td>\n",
       "      <td>...</td>\n",
       "      <td>9.0</td>\n",
       "      <td>Corporate Auto</td>\n",
       "      <td>Corporate L3</td>\n",
       "      <td>Offer3</td>\n",
       "      <td>Agent</td>\n",
       "      <td>292.800000</td>\n",
       "      <td>Four-Door Car</td>\n",
       "      <td>Medsize</td>\n",
       "      <td>NaN</td>\n",
       "      <td>NaN</td>\n",
       "    </tr>\n",
       "    <tr>\n",
       "      <th>1</th>\n",
       "      <td>1.0</td>\n",
       "      <td>KX64629</td>\n",
       "      <td>California</td>\n",
       "      <td>2228.525238</td>\n",
       "      <td>No</td>\n",
       "      <td>Basic</td>\n",
       "      <td>College</td>\n",
       "      <td>1/18/11</td>\n",
       "      <td>Unemployed</td>\n",
       "      <td>F</td>\n",
       "      <td>...</td>\n",
       "      <td>1.0</td>\n",
       "      <td>Personal Auto</td>\n",
       "      <td>Personal L3</td>\n",
       "      <td>Offer4</td>\n",
       "      <td>Call Center</td>\n",
       "      <td>744.924331</td>\n",
       "      <td>Four-Door Car</td>\n",
       "      <td>Medsize</td>\n",
       "      <td>NaN</td>\n",
       "      <td>NaN</td>\n",
       "    </tr>\n",
       "    <tr>\n",
       "      <th>2</th>\n",
       "      <td>2.0</td>\n",
       "      <td>LZ68649</td>\n",
       "      <td>Washington</td>\n",
       "      <td>14947.9173</td>\n",
       "      <td>No</td>\n",
       "      <td>Basic</td>\n",
       "      <td>Bachelor</td>\n",
       "      <td>2/10/11</td>\n",
       "      <td>Employed</td>\n",
       "      <td>M</td>\n",
       "      <td>...</td>\n",
       "      <td>2.0</td>\n",
       "      <td>Personal Auto</td>\n",
       "      <td>Personal L3</td>\n",
       "      <td>Offer3</td>\n",
       "      <td>Call Center</td>\n",
       "      <td>480.000000</td>\n",
       "      <td>SUV</td>\n",
       "      <td>Medsize</td>\n",
       "      <td>A</td>\n",
       "      <td>NaN</td>\n",
       "    </tr>\n",
       "    <tr>\n",
       "      <th>3</th>\n",
       "      <td>3.0</td>\n",
       "      <td>XL78013</td>\n",
       "      <td>Oregon</td>\n",
       "      <td>22332.43946</td>\n",
       "      <td>Yes</td>\n",
       "      <td>Extended</td>\n",
       "      <td>College</td>\n",
       "      <td>1/11/11</td>\n",
       "      <td>Employed</td>\n",
       "      <td>M</td>\n",
       "      <td>...</td>\n",
       "      <td>2.0</td>\n",
       "      <td>Corporate Auto</td>\n",
       "      <td>Corporate L3</td>\n",
       "      <td>Offer2</td>\n",
       "      <td>Branch</td>\n",
       "      <td>484.013411</td>\n",
       "      <td>Four-Door Car</td>\n",
       "      <td>Medsize</td>\n",
       "      <td>A</td>\n",
       "      <td>NaN</td>\n",
       "    </tr>\n",
       "    <tr>\n",
       "      <th>4</th>\n",
       "      <td>4.0</td>\n",
       "      <td>QA50777</td>\n",
       "      <td>Oregon</td>\n",
       "      <td>9025.067525</td>\n",
       "      <td>No</td>\n",
       "      <td>Premium</td>\n",
       "      <td>Bachelor</td>\n",
       "      <td>1/17/11</td>\n",
       "      <td>Medical Leave</td>\n",
       "      <td>F</td>\n",
       "      <td>...</td>\n",
       "      <td>7.0</td>\n",
       "      <td>Personal Auto</td>\n",
       "      <td>Personal L2</td>\n",
       "      <td>Offer1</td>\n",
       "      <td>Branch</td>\n",
       "      <td>707.925645</td>\n",
       "      <td>Four-Door Car</td>\n",
       "      <td>Medsize</td>\n",
       "      <td>NaN</td>\n",
       "      <td>NaN</td>\n",
       "    </tr>\n",
       "  </tbody>\n",
       "</table>\n",
       "<p>5 rows × 27 columns</p>\n",
       "</div>"
      ],
      "text/plain": [
       "   unnamed customer       state customer_lifetime_value response  coverage  \\\n",
       "0      0.0  DK49336     Arizona              4809.21696       No     Basic   \n",
       "1      1.0  KX64629  California             2228.525238       No     Basic   \n",
       "2      2.0  LZ68649  Washington              14947.9173       No     Basic   \n",
       "3      3.0  XL78013      Oregon             22332.43946      Yes  Extended   \n",
       "4      4.0  QA50777      Oregon             9025.067525       No   Premium   \n",
       "\n",
       "  education effective_to_date employment_status gender  ...  \\\n",
       "0   College           2/18/11          Employed      M  ...   \n",
       "1   College           1/18/11        Unemployed      F  ...   \n",
       "2  Bachelor           2/10/11          Employed      M  ...   \n",
       "3   College           1/11/11          Employed      M  ...   \n",
       "4  Bachelor           1/17/11     Medical Leave      F  ...   \n",
       "\n",
       "   number_of_policies     policy_type        policy  renew_offer_type  \\\n",
       "0                 9.0  Corporate Auto  Corporate L3            Offer3   \n",
       "1                 1.0   Personal Auto   Personal L3            Offer4   \n",
       "2                 2.0   Personal Auto   Personal L3            Offer3   \n",
       "3                 2.0  Corporate Auto  Corporate L3            Offer2   \n",
       "4                 7.0   Personal Auto   Personal L2            Offer1   \n",
       "\n",
       "   sales_channel  total_claim_amount  vehicle_class  vehicle_size  \\\n",
       "0          Agent          292.800000  Four-Door Car       Medsize   \n",
       "1    Call Center          744.924331  Four-Door Car       Medsize   \n",
       "2    Call Center          480.000000            SUV       Medsize   \n",
       "3         Branch          484.013411  Four-Door Car       Medsize   \n",
       "4         Branch          707.925645  Four-Door Car       Medsize   \n",
       "\n",
       "  vehicle_type   st  \n",
       "0          NaN  NaN  \n",
       "1          NaN  NaN  \n",
       "2            A  NaN  \n",
       "3            A  NaN  \n",
       "4          NaN  NaN  \n",
       "\n",
       "[5 rows x 27 columns]"
      ]
     },
     "execution_count": 137,
     "metadata": {},
     "output_type": "execute_result"
    }
   ],
   "source": [
    "# import numpy as np\n",
    "import pandas as pd\n",
    "mktg_df= pd.read_csv(\"https://raw.githubusercontent.com/data-bootcamp-v4/data/main/marketing_customer_analysis.csv\")\n",
    "df_2=pd.read_csv(\"https://raw.githubusercontent.com/data-bootcamp-v4/data/main/file2.csv\")\n",
    "df_3=pd.read_csv(\"https://raw.githubusercontent.com/data-bootcamp-v4/data/main/file3.csv\")                \n",
    "#print(mktg_df.head())\n",
    "#print(len(mktg_df.columns))\n",
    "#print(len(df_2.columns))\n",
    "#print(len(df_3.columns))\n",
    "#print(df_2.head())\n",
    "#print(df_3.head())\n",
    "print(mktg_df.shape)\n",
    "print(df_2.shape)\n",
    "print(df_3.shape)\n",
    "\n",
    "#clean all data set columns first:\n",
    "def clean_column_names(df):\n",
    "    df.columns = df.columns.str.lower().str.replace(' ', '_')\n",
    "    df = df.rename(columns={str('employmentstatus'): 'employment_status'})\n",
    "    df = df.rename(columns={str('unnamed:_0'): 'unnamed'})\n",
    "    return df    \n",
    "mktg_df= clean_column_names(mktg_df)\n",
    "\n",
    "def clean_column_names(df):\n",
    "    df.columns = df.columns.str.lower().str.replace(' ', '_')\n",
    "    df = df.rename(columns={str('employmentstatus'): 'employment_status'})\n",
    "    df = df.rename(columns={str('unnamed:_0'): 'unnamed'})\n",
    "    return df    \n",
    "df_2= clean_column_names(df_2)\n",
    "\n",
    "def clean_column_names(df):\n",
    "    df.columns = df.columns.str.lower().str.replace(' ', '_')\n",
    "    df = df.rename(columns={str('employmentstatus'): 'employment_status'})\n",
    "    df = df.rename(columns={str('unnamed:_0'): 'unnamed'})\n",
    "    return df    \n",
    "df_3= clean_column_names(df_3)\n",
    "\n",
    "\n",
    "\n",
    "print(list(mktg_df.columns))\n",
    "print(list(df_2.columns))\n",
    "print(list(df_3.columns))\n",
    "\n",
    "all_df= pd.concat([mktg_df, df_2,df_3 ], axis=0)\n",
    "print(list(all_df.columns))\n",
    "print(all_df.shape)\n",
    "all_df.head()"
   ]
  },
  {
   "cell_type": "markdown",
   "id": "31b8a9e7-7db9-4604-991b-ef6771603e57",
   "metadata": {
    "id": "31b8a9e7-7db9-4604-991b-ef6771603e57"
   },
   "source": [
    "# Challenge 2: Structuring Data"
   ]
  },
  {
   "cell_type": "markdown",
   "id": "a877fd6d-7a0c-46d2-9657-f25036e4ca4b",
   "metadata": {
    "id": "a877fd6d-7a0c-46d2-9657-f25036e4ca4b"
   },
   "source": [
    "In this challenge, we will continue to work with customer data from an insurance company, but we will use a dataset with more columns, called marketing_customer_analysis.csv, which can be found at the following link:\n",
    "\n",
    "https://raw.githubusercontent.com/data-bootcamp-v4/data/main/marketing_customer_analysis_clean.csv\n",
    "\n",
    "This dataset contains information such as customer demographics, policy details, vehicle information, and the customer's response to the last marketing campaign. Our goal is to explore and analyze this data by performing data cleaning, formatting, and structuring."
   ]
  },
  {
   "cell_type": "code",
   "execution_count": 155,
   "id": "aa10d9b0-1c27-4d3f-a8e4-db6ab73bfd26",
   "metadata": {
    "id": "aa10d9b0-1c27-4d3f-a8e4-db6ab73bfd26"
   },
   "outputs": [
    {
     "name": "stdout",
     "output_type": "stream",
     "text": [
      "   unnamed customer       state  customer_lifetime_value response  coverage  \\\n",
      "0        0  DK49336     Arizona              4809.216960       No     Basic   \n",
      "1        1  KX64629  California              2228.525238       No     Basic   \n",
      "2        2  LZ68649  Washington             14947.917300       No     Basic   \n",
      "3        3  XL78013      Oregon             22332.439460      Yes  Extended   \n",
      "4        4  QA50777      Oregon              9025.067525       No   Premium   \n",
      "\n",
      "  education effective_to_date employment_status gender  ...  \\\n",
      "0   College        2011-02-18          Employed      M  ...   \n",
      "1   College        2011-01-18        Unemployed      F  ...   \n",
      "2  Bachelor        2011-02-10          Employed      M  ...   \n",
      "3   College        2011-01-11          Employed      M  ...   \n",
      "4  Bachelor        2011-01-17     Medical Leave      F  ...   \n",
      "\n",
      "   number_of_policies     policy_type        policy  renew_offer_type  \\\n",
      "0                   9  Corporate Auto  Corporate L3            Offer3   \n",
      "1                   1   Personal Auto   Personal L3            Offer4   \n",
      "2                   2   Personal Auto   Personal L3            Offer3   \n",
      "3                   2  Corporate Auto  Corporate L3            Offer2   \n",
      "4                   7   Personal Auto   Personal L2            Offer1   \n",
      "\n",
      "   sales_channel  total_claim_amount  vehicle_class  vehicle_size  \\\n",
      "0          Agent          292.800000  Four-Door Car       Medsize   \n",
      "1    Call Center          744.924331  Four-Door Car       Medsize   \n",
      "2    Call Center          480.000000            SUV       Medsize   \n",
      "3         Branch          484.013411  Four-Door Car       Medsize   \n",
      "4         Branch          707.925645  Four-Door Car       Medsize   \n",
      "\n",
      "  vehicle_type month  \n",
      "0            A     2  \n",
      "1            A     1  \n",
      "2            A     2  \n",
      "3            A     1  \n",
      "4            A     1  \n",
      "\n",
      "[5 rows x 27 columns]\n"
     ]
    }
   ],
   "source": [
    "\n",
    "import pandas as pd\n",
    "customer_df=pd.read_csv(\"https://raw.githubusercontent.com/data-bootcamp-v4/data/main/marketing_customer_analysis_clean.csv\")\n",
    "def clean_column_names(df):\n",
    "    df.columns = df.columns.str.lower().str.replace(' ', '_')\n",
    "    df = df.rename(columns={str('employmentstatus'): 'employment_status'})\n",
    "    df = df.rename(columns={str('unnamed:_0'): 'unnamed'})\n",
    "    return df    \n",
    "customer_df= clean_column_names(customer_df)\n",
    "\n",
    "\n",
    "\n",
    "print(customer_df.head())\n",
    "\n",
    "#print(len(mktg_df.columns))\n",
    "#print(len(customer_df.columns))\n",
    "#print(customer_df.head())\n",
    "\n"
   ]
  },
  {
   "cell_type": "markdown",
   "id": "df35fd0d-513e-4e77-867e-429da10a9cc7",
   "metadata": {
    "id": "df35fd0d-513e-4e77-867e-429da10a9cc7"
   },
   "source": [
    "1. You work at the marketing department and you want to know which sales channel brought the most sales in terms of total revenue. Using pivot, create a summary table showing the total revenue for each sales channel (branch, call center, web, and mail).\n",
    "Round the total revenue to 2 decimal points.  Analyze the resulting table to draw insights."
   ]
  },
  {
   "cell_type": "code",
   "execution_count": 157,
   "id": "38dfab41-8680-41a2-afb4-a2c83bad282d",
   "metadata": {
    "tags": []
   },
   "outputs": [
    {
     "name": "stdout",
     "output_type": "stream",
     "text": [
      "  sales_channel  total_claim_amount\n",
      "0         Agent          1810226.82\n",
      "1        Branch          1301204.00\n",
      "2   Call Center           926600.82\n",
      "3           Web           706600.04\n",
      "\n",
      "The sales channel with the most sales in terms of total revenue is: Agent with total revenue $1810226.82\n"
     ]
    }
   ],
   "source": [
    "\n",
    "\n",
    "pivot_df = customer_df.pivot_table(index='sales_channel', values='total_claim_amount', aggfunc='sum').reset_index()\n",
    "pivot_df['total_claim_amount'] = pivot_df['total_claim_amount'].round(2)\n",
    "print(pivot_df)\n",
    "max_revenue_channel = pivot_df.loc[pivot_df['total_claim_amount'].idxmax()]\n",
    "print()\n",
    "print(f\"The sales channel with the most sales in terms of total revenue is: {max_revenue_channel['sales_channel']} with total revenue ${max_revenue_channel['total_claim_amount']:.2f}\")\n"
   ]
  },
  {
   "cell_type": "markdown",
   "id": "640993b2-a291-436c-a34d-a551144f8196",
   "metadata": {
    "id": "640993b2-a291-436c-a34d-a551144f8196"
   },
   "source": [
    "2. Create a pivot table that shows the average customer lifetime value per gender and education level. Analyze the resulting table to draw insights."
   ]
  },
  {
   "cell_type": "code",
   "execution_count": 159,
   "id": "5e2cd3d9-b775-46e6-b7e1-03a0b3b220cc",
   "metadata": {
    "tags": []
   },
   "outputs": [
    {
     "name": "stdout",
     "output_type": "stream",
     "text": [
      "gender             education        F        M\n",
      "0                   Bachelor  7874.27  7703.60\n",
      "1                    College  7748.82  8052.46\n",
      "2                     Doctor  7328.51  7415.33\n",
      "3       High School or Below  8675.22  8149.69\n",
      "4                     Master  8157.05  8168.83\n"
     ]
    }
   ],
   "source": [
    "pivot2_df = customer_df.pivot_table(index='education',columns='gender', values='customer_lifetime_value', aggfunc='mean').round(2).reset_index()\n",
    "print(pivot2_df)\n",
    "# For females the highest average for customer lifetime value have an educational level of High school or below, while for males is having a Master.However in male there  is a very small difference between the averages in Hgh schol and masters.\n",
    "#For both genders Doctors have the lowest average for customer lifetime value.\n",
    "# In high school educational level is where we find the biggest difference between male and female in terms of the average customer lifetime value, where the female average is considerably higher compare to the male.\n",
    "#In general results are differenciated between genders regarding their educational level."
   ]
  },
  {
   "cell_type": "markdown",
   "id": "32c7f2e5-3d90-43e5-be33-9781b6069198",
   "metadata": {
    "id": "32c7f2e5-3d90-43e5-be33-9781b6069198"
   },
   "source": [
    "## Bonus\n",
    "\n",
    "You work at the customer service department and you want to know which months had the highest number of complaints by policy type category. Create a summary table showing the number of complaints by policy type and month.\n",
    "Show it in a long format table."
   ]
  },
  {
   "cell_type": "markdown",
   "id": "e3d09a8f-953c-448a-a5f8-2e5a8cca7291",
   "metadata": {
    "id": "e3d09a8f-953c-448a-a5f8-2e5a8cca7291"
   },
   "source": [
    "*In data analysis, a long format table is a way of structuring data in which each observation or measurement is stored in a separate row of the table. The key characteristic of a long format table is that each column represents a single variable, and each row represents a single observation of that variable.*\n",
    "\n",
    "*More information about long and wide format tables here: https://www.statology.org/long-vs-wide-data/*"
   ]
  },
  {
   "cell_type": "code",
   "execution_count": 188,
   "id": "dd6b8049-4995-4521-baa7-432c7bc376db",
   "metadata": {
    "tags": []
   },
   "outputs": [
    {
     "name": "stdout",
     "output_type": "stream",
     "text": [
      "month             February     January\n",
      "policy_type                           \n",
      "Corporate Auto  447.928568  413.783733\n",
      "Personal Auto   431.666156  439.942520\n",
      "Special Auto    436.391811  444.495388\n"
     ]
    }
   ],
   "source": [
    "\n",
    "# Convert the 'date' column to datetime format\n",
    "customer_df['effective_to_date'] = pd.to_datetime(customer_df['effective_to_date'])\n",
    "customer_df['month'] = customer_df['effective_to_date'].dt.strftime('%B')\n",
    "\n",
    "pivot_df = customer_df.pivot_table(index='policy_type', columns='month', values=\"total_claim_amount\", fill_value=0)\n",
    "\n",
    "print(pivot_df.head())"
   ]
  },
  {
   "cell_type": "code",
   "execution_count": 190,
   "id": "1f93ab4d-94ad-4723-9769-6fd8e39beec3",
   "metadata": {
    "tags": []
   },
   "outputs": [
    {
     "name": "stdout",
     "output_type": "stream",
     "text": [
      "      policy_type     month       count\n",
      "0  Corporate Auto  February  447.928568\n",
      "1   Personal Auto  February  431.666156\n",
      "2    Special Auto  February  436.391811\n",
      "3  Corporate Auto   January  413.783733\n",
      "4   Personal Auto   January  439.942520\n"
     ]
    }
   ],
   "source": [
    "long_format_df = pd.melt(pivot_df.reset_index(), id_vars='policy_type', var_name='month', value_name='count')\n",
    "print(long_format_df.head())"
   ]
  },
  {
   "cell_type": "code",
   "execution_count": null,
   "id": "5b003ff1-08d2-48cb-8eb9-f829ec46bc4b",
   "metadata": {},
   "outputs": [],
   "source": []
  }
 ],
 "metadata": {
  "colab": {
   "provenance": []
  },
  "kernelspec": {
   "display_name": "Python 3 (ipykernel)",
   "language": "python",
   "name": "python3"
  },
  "language_info": {
   "codemirror_mode": {
    "name": "ipython",
    "version": 3
   },
   "file_extension": ".py",
   "mimetype": "text/x-python",
   "name": "python",
   "nbconvert_exporter": "python",
   "pygments_lexer": "ipython3",
   "version": "3.11.7"
  }
 },
 "nbformat": 4,
 "nbformat_minor": 5
}
